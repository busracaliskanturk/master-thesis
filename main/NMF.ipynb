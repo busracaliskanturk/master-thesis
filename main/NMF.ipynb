{
 "cells": [
  {
   "cell_type": "code",
   "execution_count": 1,
   "id": "9431ad3c",
   "metadata": {
    "pycharm": {
     "name": "#%%\n"
    }
   },
   "outputs": [],
   "source": [
    "\n",
    "# !pip install nltk #to remove stopwords\n",
    "\n",
    "import re\n",
    "import time\n",
    "\n",
    "import numpy as np\n",
    "import pandas as pd\n",
    "import spacy\n",
    "from nltk.corpus import stopwords\n",
    "from nltk.tokenize import word_tokenize\n",
    "\n",
    "nlp = spacy.load('en_core_web_sm')  # Loading spacy English\n",
    "import matplotlib.pyplot as plt\n",
    "\n",
    "from gensim import corpora\n",
    "from gensim.models import Nmf\n",
    "from gensim.models import CoherenceModel\n",
    "\n",
    "from sklearn.feature_extraction.text import TfidfVectorizer\n",
    "from sklearn.decomposition import NMF\n",
    "\n",
    "import warnings\n",
    "\n",
    "warnings.filterwarnings('ignore', module='pandas')\n",
    "warnings.filterwarnings(\"ignore\", category=DeprecationWarning)"
   ]
  },
  {
   "cell_type": "code",
   "execution_count": 2,
   "id": "a2f07a50",
   "metadata": {
    "pycharm": {
     "name": "#%%\n"
    }
   },
   "outputs": [],
   "source": [
    "#loading the data file: it is also available via below link:\n",
    "# 'https://www.kaggle.com/datasets/khalidryder777/500k-chatgpt-tweets-jan-mar-2023'\n",
    "\n",
    "data = pd.read_csv('/Users/busracaliskan/Desktop/Thesis Data/Twitter Jan Mar.csv')\n"
   ]
  },
  {
   "cell_type": "code",
   "execution_count": 3,
   "id": "fbfebe2d",
   "metadata": {
    "pycharm": {
     "name": "#%%\n"
    },
    "scrolled": true
   },
   "outputs": [
    {
     "data": {
      "text/html": [
       "<div>\n",
       "<style scoped>\n",
       "    .dataframe tbody tr th:only-of-type {\n",
       "        vertical-align: middle;\n",
       "    }\n",
       "\n",
       "    .dataframe tbody tr th {\n",
       "        vertical-align: top;\n",
       "    }\n",
       "\n",
       "    .dataframe thead th {\n",
       "        text-align: right;\n",
       "    }\n",
       "</style>\n",
       "<table border=\"1\" class=\"dataframe\">\n",
       "  <thead>\n",
       "    <tr style=\"text-align: right;\">\n",
       "      <th></th>\n",
       "      <th>date</th>\n",
       "      <th>id</th>\n",
       "      <th>content</th>\n",
       "      <th>username</th>\n",
       "      <th>like_count</th>\n",
       "      <th>retweet_count</th>\n",
       "    </tr>\n",
       "  </thead>\n",
       "  <tbody>\n",
       "    <tr>\n",
       "      <th>0</th>\n",
       "      <td>2023-03-29 22:58:21+00:00</td>\n",
       "      <td>1641213230730051584</td>\n",
       "      <td>Free AI marketing and automation tools, strate...</td>\n",
       "      <td>RealProfitPros</td>\n",
       "      <td>0.0</td>\n",
       "      <td>0.0</td>\n",
       "    </tr>\n",
       "    <tr>\n",
       "      <th>1</th>\n",
       "      <td>2023-03-29 22:58:18+00:00</td>\n",
       "      <td>1641213218520481805</td>\n",
       "      <td>@MecoleHardman4 Chat GPT says it’s 15. 😂</td>\n",
       "      <td>AmyLouWho321</td>\n",
       "      <td>0.0</td>\n",
       "      <td>0.0</td>\n",
       "    </tr>\n",
       "    <tr>\n",
       "      <th>2</th>\n",
       "      <td>2023-03-29 22:57:53+00:00</td>\n",
       "      <td>1641213115684536323</td>\n",
       "      <td>https://t.co/FjJSprt0te - Chat with any PDF!\\n...</td>\n",
       "      <td>yjleon1976</td>\n",
       "      <td>0.0</td>\n",
       "      <td>0.0</td>\n",
       "    </tr>\n",
       "    <tr>\n",
       "      <th>3</th>\n",
       "      <td>2023-03-29 22:57:52+00:00</td>\n",
       "      <td>1641213110915571715</td>\n",
       "      <td>AI muses: \"In the court of life, we must all f...</td>\n",
       "      <td>ChatGPT_Thinks</td>\n",
       "      <td>0.0</td>\n",
       "      <td>0.0</td>\n",
       "    </tr>\n",
       "    <tr>\n",
       "      <th>4</th>\n",
       "      <td>2023-03-29 22:57:26+00:00</td>\n",
       "      <td>1641213003260633088</td>\n",
       "      <td>Most people haven't heard of Chat GPT yet.\\nFi...</td>\n",
       "      <td>nikocosmonaut</td>\n",
       "      <td>0.0</td>\n",
       "      <td>0.0</td>\n",
       "    </tr>\n",
       "  </tbody>\n",
       "</table>\n",
       "</div>"
      ],
      "text/plain": [
       "                        date                   id   \n",
       "0  2023-03-29 22:58:21+00:00  1641213230730051584  \\\n",
       "1  2023-03-29 22:58:18+00:00  1641213218520481805   \n",
       "2  2023-03-29 22:57:53+00:00  1641213115684536323   \n",
       "3  2023-03-29 22:57:52+00:00  1641213110915571715   \n",
       "4  2023-03-29 22:57:26+00:00  1641213003260633088   \n",
       "\n",
       "                                             content        username   \n",
       "0  Free AI marketing and automation tools, strate...  RealProfitPros  \\\n",
       "1           @MecoleHardman4 Chat GPT says it’s 15. 😂    AmyLouWho321   \n",
       "2  https://t.co/FjJSprt0te - Chat with any PDF!\\n...      yjleon1976   \n",
       "3  AI muses: \"In the court of life, we must all f...  ChatGPT_Thinks   \n",
       "4  Most people haven't heard of Chat GPT yet.\\nFi...   nikocosmonaut   \n",
       "\n",
       "   like_count  retweet_count  \n",
       "0         0.0            0.0  \n",
       "1         0.0            0.0  \n",
       "2         0.0            0.0  \n",
       "3         0.0            0.0  \n",
       "4         0.0            0.0  "
      ]
     },
     "execution_count": 3,
     "metadata": {},
     "output_type": "execute_result"
    }
   ],
   "source": [
    "data.head()"
   ]
  },
  {
   "cell_type": "code",
   "execution_count": 4,
   "id": "948fbc47",
   "metadata": {
    "pycharm": {
     "name": "#%%\n"
    }
   },
   "outputs": [],
   "source": [
    "#creating a copy of dataset\n",
    "df = data.copy()"
   ]
  },
  {
   "cell_type": "code",
   "execution_count": 5,
   "id": "c2a3e745",
   "metadata": {
    "pycharm": {
     "name": "#%%\n"
    }
   },
   "outputs": [
    {
     "data": {
      "text/plain": [
       "(499974, 6)"
      ]
     },
     "execution_count": 5,
     "metadata": {},
     "output_type": "execute_result"
    }
   ],
   "source": [
    "#dropping the rows that contain NA values\n",
    "df_dropped = df.dropna()\n",
    "df_dropped.shape"
   ]
  },
  {
   "cell_type": "code",
   "execution_count": 6,
   "id": "4f07adc7",
   "metadata": {
    "pycharm": {
     "name": "#%%\n"
    },
    "scrolled": true
   },
   "outputs": [
    {
     "name": "stdout",
     "output_type": "stream",
     "text": [
      "(493705, 6)\n"
     ]
    }
   ],
   "source": [
    "\n",
    "# To check for duplicate values in the \"content\" column\n",
    "duplicates = df_dropped.duplicated(subset='content')\n",
    "\n",
    "# Print the duplicate rows\n",
    "#print(df[duplicates])\n",
    "\n",
    "# Remove the duplicate rows\n",
    "df_unique = df_dropped.drop_duplicates(subset='content')\n",
    "\n",
    "# Print the DataFrame without duplicates\n",
    "print(df_unique.shape)\n"
   ]
  },
  {
   "cell_type": "code",
   "execution_count": 7,
   "id": "9ab7bcde",
   "metadata": {
    "pycharm": {
     "name": "#%%\n"
    }
   },
   "outputs": [
    {
     "name": "stdout",
     "output_type": "stream",
     "text": [
      "24.599704276845486\n"
     ]
    }
   ],
   "source": [
    "# Calculating the word lengths for each tweet\n",
    "doc_lens = [len(tweet.split()) for tweet in df_unique['content']]\n",
    "\n",
    "# Calculating the average tweet word length\n",
    "avg_length = np.mean(doc_lens)\n",
    "print(avg_length)\n",
    "\n",
    "\n"
   ]
  },
  {
   "cell_type": "code",
   "execution_count": 8,
   "id": "5bd275b6",
   "metadata": {
    "pycharm": {
     "name": "#%%\n"
    }
   },
   "outputs": [
    {
     "data": {
      "text/html": [
       "<div>\n",
       "<style scoped>\n",
       "    .dataframe tbody tr th:only-of-type {\n",
       "        vertical-align: middle;\n",
       "    }\n",
       "\n",
       "    .dataframe tbody tr th {\n",
       "        vertical-align: top;\n",
       "    }\n",
       "\n",
       "    .dataframe thead th {\n",
       "        text-align: right;\n",
       "    }\n",
       "</style>\n",
       "<table border=\"1\" class=\"dataframe\">\n",
       "  <thead>\n",
       "    <tr style=\"text-align: right;\">\n",
       "      <th></th>\n",
       "      <th>date</th>\n",
       "      <th>id</th>\n",
       "      <th>content</th>\n",
       "      <th>username</th>\n",
       "      <th>like_count</th>\n",
       "      <th>retweet_count</th>\n",
       "    </tr>\n",
       "  </thead>\n",
       "  <tbody>\n",
       "    <tr>\n",
       "      <th>0</th>\n",
       "      <td>2023-01-13 04:30:44+00:00</td>\n",
       "      <td>1613755402608381952</td>\n",
       "      <td>Best AI Tools You Need To Know\\n#chatgpt #chat...</td>\n",
       "      <td>johnvianny</td>\n",
       "      <td>63835.0</td>\n",
       "      <td>16080.0</td>\n",
       "    </tr>\n",
       "    <tr>\n",
       "      <th>1</th>\n",
       "      <td>2023-01-07 04:31:47+00:00</td>\n",
       "      <td>1611581338351730688</td>\n",
       "      <td>ultra-modern generative ai🗨️: \\n\\n• AI2\\n• AI2...</td>\n",
       "      <td>aaronsiim</td>\n",
       "      <td>42125.0</td>\n",
       "      <td>11501.0</td>\n",
       "    </tr>\n",
       "    <tr>\n",
       "      <th>2</th>\n",
       "      <td>2023-01-09 04:35:00+00:00</td>\n",
       "      <td>1612306922681630721</td>\n",
       "      <td>Creators and writers are making $1,000,000s us...</td>\n",
       "      <td>garryflix</td>\n",
       "      <td>13393.0</td>\n",
       "      <td>8096.0</td>\n",
       "    </tr>\n",
       "    <tr>\n",
       "      <th>3</th>\n",
       "      <td>2023-03-25 04:31:39+00:00</td>\n",
       "      <td>1639485169911627777</td>\n",
       "      <td>$150 || 7250 PHP || 2.1 IDR\\n\\n$100\\n✅ RT &amp;amp...</td>\n",
       "      <td>crypto_bearr</td>\n",
       "      <td>1833.0</td>\n",
       "      <td>8060.0</td>\n",
       "    </tr>\n",
       "    <tr>\n",
       "      <th>4</th>\n",
       "      <td>2023-02-24 13:49:22+00:00</td>\n",
       "      <td>1629116276286029824</td>\n",
       "      <td>$250 — 48 Hours — \\n\\n➖ RT &amp;amp; Follow: @Dege...</td>\n",
       "      <td>TheRavenCrypto</td>\n",
       "      <td>1705.0</td>\n",
       "      <td>5429.0</td>\n",
       "    </tr>\n",
       "    <tr>\n",
       "      <th>...</th>\n",
       "      <td>...</td>\n",
       "      <td>...</td>\n",
       "      <td>...</td>\n",
       "      <td>...</td>\n",
       "      <td>...</td>\n",
       "      <td>...</td>\n",
       "    </tr>\n",
       "    <tr>\n",
       "      <th>493700</th>\n",
       "      <td>2023-03-02 12:12:47+00:00</td>\n",
       "      <td>1631266299392274438</td>\n",
       "      <td>TechScape: Seven top AI acronyms explained - T...</td>\n",
       "      <td>PDH_Metaverse</td>\n",
       "      <td>0.0</td>\n",
       "      <td>0.0</td>\n",
       "    </tr>\n",
       "    <tr>\n",
       "      <th>493701</th>\n",
       "      <td>2023-03-02 12:12:49+00:00</td>\n",
       "      <td>1631266307277504515</td>\n",
       "      <td>AI Copywriting And SEO: Is It Worth It? - Forb...</td>\n",
       "      <td>PDH_Metaverse</td>\n",
       "      <td>2.0</td>\n",
       "      <td>0.0</td>\n",
       "    </tr>\n",
       "    <tr>\n",
       "      <th>493702</th>\n",
       "      <td>2023-03-02 12:12:50+00:00</td>\n",
       "      <td>1631266309722763264</td>\n",
       "      <td>What Does AI Have to do With Digital Assets an...</td>\n",
       "      <td>PDH_Metaverse</td>\n",
       "      <td>1.0</td>\n",
       "      <td>0.0</td>\n",
       "    </tr>\n",
       "    <tr>\n",
       "      <th>493703</th>\n",
       "      <td>2023-03-02 12:12:54+00:00</td>\n",
       "      <td>1631266325971468288</td>\n",
       "      <td>Elon Musk: 'AI stresses me out' - TechCentral ...</td>\n",
       "      <td>PDH_Metaverse</td>\n",
       "      <td>0.0</td>\n",
       "      <td>0.0</td>\n",
       "    </tr>\n",
       "    <tr>\n",
       "      <th>493704</th>\n",
       "      <td>2023-01-04 07:16:56+00:00</td>\n",
       "      <td>1610535734758219778</td>\n",
       "      <td>I used chat gpt to get gym workout program and...</td>\n",
       "      <td>pnik91</td>\n",
       "      <td>0.0</td>\n",
       "      <td>0.0</td>\n",
       "    </tr>\n",
       "  </tbody>\n",
       "</table>\n",
       "<p>493705 rows × 6 columns</p>\n",
       "</div>"
      ],
      "text/plain": [
       "                             date                   id   \n",
       "0       2023-01-13 04:30:44+00:00  1613755402608381952  \\\n",
       "1       2023-01-07 04:31:47+00:00  1611581338351730688   \n",
       "2       2023-01-09 04:35:00+00:00  1612306922681630721   \n",
       "3       2023-03-25 04:31:39+00:00  1639485169911627777   \n",
       "4       2023-02-24 13:49:22+00:00  1629116276286029824   \n",
       "...                           ...                  ...   \n",
       "493700  2023-03-02 12:12:47+00:00  1631266299392274438   \n",
       "493701  2023-03-02 12:12:49+00:00  1631266307277504515   \n",
       "493702  2023-03-02 12:12:50+00:00  1631266309722763264   \n",
       "493703  2023-03-02 12:12:54+00:00  1631266325971468288   \n",
       "493704  2023-01-04 07:16:56+00:00  1610535734758219778   \n",
       "\n",
       "                                                  content        username   \n",
       "0       Best AI Tools You Need To Know\\n#chatgpt #chat...      johnvianny  \\\n",
       "1       ultra-modern generative ai🗨️: \\n\\n• AI2\\n• AI2...       aaronsiim   \n",
       "2       Creators and writers are making $1,000,000s us...       garryflix   \n",
       "3       $150 || 7250 PHP || 2.1 IDR\\n\\n$100\\n✅ RT &amp...    crypto_bearr   \n",
       "4       $250 — 48 Hours — \\n\\n➖ RT &amp; Follow: @Dege...  TheRavenCrypto   \n",
       "...                                                   ...             ...   \n",
       "493700  TechScape: Seven top AI acronyms explained - T...   PDH_Metaverse   \n",
       "493701  AI Copywriting And SEO: Is It Worth It? - Forb...   PDH_Metaverse   \n",
       "493702  What Does AI Have to do With Digital Assets an...   PDH_Metaverse   \n",
       "493703  Elon Musk: 'AI stresses me out' - TechCentral ...   PDH_Metaverse   \n",
       "493704  I used chat gpt to get gym workout program and...          pnik91   \n",
       "\n",
       "        like_count  retweet_count  \n",
       "0          63835.0        16080.0  \n",
       "1          42125.0        11501.0  \n",
       "2          13393.0         8096.0  \n",
       "3           1833.0         8060.0  \n",
       "4           1705.0         5429.0  \n",
       "...            ...            ...  \n",
       "493700         0.0            0.0  \n",
       "493701         2.0            0.0  \n",
       "493702         1.0            0.0  \n",
       "493703         0.0            0.0  \n",
       "493704         0.0            0.0  \n",
       "\n",
       "[493705 rows x 6 columns]"
      ]
     },
     "execution_count": 8,
     "metadata": {},
     "output_type": "execute_result"
    }
   ],
   "source": [
    "#i decided to analyse top 30000 retweeted tweets since its a huge dataset so hard to analyse and \n",
    "#its more valuable to work with most influential tweets.\n",
    "\n",
    "sorted_df = df_unique.sort_values(by='retweet_count', ascending=False)\n",
    "\n",
    "# Reset the index from the beginning\n",
    "sorted_df.reset_index(drop=True, inplace=True)\n",
    "sorted_df"
   ]
  },
  {
   "cell_type": "code",
   "execution_count": 9,
   "id": "87eeca64",
   "metadata": {
    "pycharm": {
     "name": "#%%\n"
    }
   },
   "outputs": [],
   "source": [
    "new_df = sorted_df.head(30000)"
   ]
  },
  {
   "cell_type": "code",
   "execution_count": 10,
   "id": "60b20a6e",
   "metadata": {
    "pycharm": {
     "name": "#%%\n"
    }
   },
   "outputs": [
    {
     "data": {
      "text/plain": [
       "(30000, 6)"
      ]
     },
     "execution_count": 10,
     "metadata": {},
     "output_type": "execute_result"
    }
   ],
   "source": [
    "new_df.shape"
   ]
  },
  {
   "cell_type": "code",
   "execution_count": 11,
   "id": "8d5a48bc",
   "metadata": {
    "pycharm": {
     "name": "#%%\n"
    }
   },
   "outputs": [
    {
     "data": {
      "text/html": [
       "<div>\n",
       "<style scoped>\n",
       "    .dataframe tbody tr th:only-of-type {\n",
       "        vertical-align: middle;\n",
       "    }\n",
       "\n",
       "    .dataframe tbody tr th {\n",
       "        vertical-align: top;\n",
       "    }\n",
       "\n",
       "    .dataframe thead th {\n",
       "        text-align: right;\n",
       "    }\n",
       "</style>\n",
       "<table border=\"1\" class=\"dataframe\">\n",
       "  <thead>\n",
       "    <tr style=\"text-align: right;\">\n",
       "      <th></th>\n",
       "      <th>date</th>\n",
       "      <th>id</th>\n",
       "      <th>content</th>\n",
       "      <th>username</th>\n",
       "      <th>like_count</th>\n",
       "      <th>retweet_count</th>\n",
       "    </tr>\n",
       "  </thead>\n",
       "  <tbody>\n",
       "    <tr>\n",
       "      <th>0</th>\n",
       "      <td>2023-01-13 04:30:44+00:00</td>\n",
       "      <td>1613755402608381952</td>\n",
       "      <td>Best AI Tools You Need To Know\\n#chatgpt #chat...</td>\n",
       "      <td>johnvianny</td>\n",
       "      <td>63835.0</td>\n",
       "      <td>16080.0</td>\n",
       "    </tr>\n",
       "    <tr>\n",
       "      <th>1</th>\n",
       "      <td>2023-01-07 04:31:47+00:00</td>\n",
       "      <td>1611581338351730688</td>\n",
       "      <td>ultra-modern generative ai🗨️: \\n\\n• AI2\\n• AI2...</td>\n",
       "      <td>aaronsiim</td>\n",
       "      <td>42125.0</td>\n",
       "      <td>11501.0</td>\n",
       "    </tr>\n",
       "    <tr>\n",
       "      <th>2</th>\n",
       "      <td>2023-01-09 04:35:00+00:00</td>\n",
       "      <td>1612306922681630721</td>\n",
       "      <td>Creators and writers are making $1,000,000s us...</td>\n",
       "      <td>garryflix</td>\n",
       "      <td>13393.0</td>\n",
       "      <td>8096.0</td>\n",
       "    </tr>\n",
       "    <tr>\n",
       "      <th>3</th>\n",
       "      <td>2023-03-25 04:31:39+00:00</td>\n",
       "      <td>1639485169911627777</td>\n",
       "      <td>$150 || 7250 PHP || 2.1 IDR\\n\\n$100\\n✅ RT &amp;amp...</td>\n",
       "      <td>crypto_bearr</td>\n",
       "      <td>1833.0</td>\n",
       "      <td>8060.0</td>\n",
       "    </tr>\n",
       "    <tr>\n",
       "      <th>4</th>\n",
       "      <td>2023-02-24 13:49:22+00:00</td>\n",
       "      <td>1629116276286029824</td>\n",
       "      <td>$250 — 48 Hours — \\n\\n➖ RT &amp;amp; Follow: @Dege...</td>\n",
       "      <td>TheRavenCrypto</td>\n",
       "      <td>1705.0</td>\n",
       "      <td>5429.0</td>\n",
       "    </tr>\n",
       "    <tr>\n",
       "      <th>...</th>\n",
       "      <td>...</td>\n",
       "      <td>...</td>\n",
       "      <td>...</td>\n",
       "      <td>...</td>\n",
       "      <td>...</td>\n",
       "      <td>...</td>\n",
       "    </tr>\n",
       "    <tr>\n",
       "      <th>29995</th>\n",
       "      <td>2023-03-28 09:13:39+00:00</td>\n",
       "      <td>1640643301899476992</td>\n",
       "      <td>This morning we shared ways to help #Teachers ...</td>\n",
       "      <td>scottdhayden</td>\n",
       "      <td>15.0</td>\n",
       "      <td>2.0</td>\n",
       "    </tr>\n",
       "    <tr>\n",
       "      <th>29996</th>\n",
       "      <td>2023-02-18 04:51:16+00:00</td>\n",
       "      <td>1626806533811232770</td>\n",
       "      <td>Bolster Your Job Search Endeavors Via Generati...</td>\n",
       "      <td>richardkimphd</td>\n",
       "      <td>1.0</td>\n",
       "      <td>2.0</td>\n",
       "    </tr>\n",
       "    <tr>\n",
       "      <th>29997</th>\n",
       "      <td>2023-03-07 18:15:56+00:00</td>\n",
       "      <td>1633169626241564672</td>\n",
       "      <td>@DavidToovey @MeteoRwanda The highest temperat...</td>\n",
       "      <td>AubinRukera</td>\n",
       "      <td>11.0</td>\n",
       "      <td>2.0</td>\n",
       "    </tr>\n",
       "    <tr>\n",
       "      <th>29998</th>\n",
       "      <td>2023-01-30 15:10:00+00:00</td>\n",
       "      <td>1620076871219044353</td>\n",
       "      <td>Check out our new Teaching and Learning Guide,...</td>\n",
       "      <td>TLTatTWU</td>\n",
       "      <td>4.0</td>\n",
       "      <td>2.0</td>\n",
       "    </tr>\n",
       "    <tr>\n",
       "      <th>29999</th>\n",
       "      <td>2023-01-30 15:11:06+00:00</td>\n",
       "      <td>1620077146957041665</td>\n",
       "      <td>“Labeling #ChatGPT as a tool that could be use...</td>\n",
       "      <td>CommonSense</td>\n",
       "      <td>5.0</td>\n",
       "      <td>2.0</td>\n",
       "    </tr>\n",
       "  </tbody>\n",
       "</table>\n",
       "<p>30000 rows × 6 columns</p>\n",
       "</div>"
      ],
      "text/plain": [
       "                            date                   id   \n",
       "0      2023-01-13 04:30:44+00:00  1613755402608381952  \\\n",
       "1      2023-01-07 04:31:47+00:00  1611581338351730688   \n",
       "2      2023-01-09 04:35:00+00:00  1612306922681630721   \n",
       "3      2023-03-25 04:31:39+00:00  1639485169911627777   \n",
       "4      2023-02-24 13:49:22+00:00  1629116276286029824   \n",
       "...                          ...                  ...   \n",
       "29995  2023-03-28 09:13:39+00:00  1640643301899476992   \n",
       "29996  2023-02-18 04:51:16+00:00  1626806533811232770   \n",
       "29997  2023-03-07 18:15:56+00:00  1633169626241564672   \n",
       "29998  2023-01-30 15:10:00+00:00  1620076871219044353   \n",
       "29999  2023-01-30 15:11:06+00:00  1620077146957041665   \n",
       "\n",
       "                                                 content        username   \n",
       "0      Best AI Tools You Need To Know\\n#chatgpt #chat...      johnvianny  \\\n",
       "1      ultra-modern generative ai🗨️: \\n\\n• AI2\\n• AI2...       aaronsiim   \n",
       "2      Creators and writers are making $1,000,000s us...       garryflix   \n",
       "3      $150 || 7250 PHP || 2.1 IDR\\n\\n$100\\n✅ RT &amp...    crypto_bearr   \n",
       "4      $250 — 48 Hours — \\n\\n➖ RT &amp; Follow: @Dege...  TheRavenCrypto   \n",
       "...                                                  ...             ...   \n",
       "29995  This morning we shared ways to help #Teachers ...    scottdhayden   \n",
       "29996  Bolster Your Job Search Endeavors Via Generati...   richardkimphd   \n",
       "29997  @DavidToovey @MeteoRwanda The highest temperat...     AubinRukera   \n",
       "29998  Check out our new Teaching and Learning Guide,...        TLTatTWU   \n",
       "29999  “Labeling #ChatGPT as a tool that could be use...     CommonSense   \n",
       "\n",
       "       like_count  retweet_count  \n",
       "0         63835.0        16080.0  \n",
       "1         42125.0        11501.0  \n",
       "2         13393.0         8096.0  \n",
       "3          1833.0         8060.0  \n",
       "4          1705.0         5429.0  \n",
       "...           ...            ...  \n",
       "29995        15.0            2.0  \n",
       "29996         1.0            2.0  \n",
       "29997        11.0            2.0  \n",
       "29998         4.0            2.0  \n",
       "29999         5.0            2.0  \n",
       "\n",
       "[30000 rows x 6 columns]"
      ]
     },
     "execution_count": 11,
     "metadata": {},
     "output_type": "execute_result"
    }
   ],
   "source": [
    "new_df"
   ]
  },
  {
   "cell_type": "code",
   "execution_count": 12,
   "id": "e224cfd1",
   "metadata": {
    "pycharm": {
     "name": "#%%\n"
    }
   },
   "outputs": [
    {
     "data": {
      "text/plain": [
       "'@DavidToovey @MeteoRwanda The highest temperature ever recorded in Rwanda was 35.7°C (96.3°F) in the capital city of Kigali on February 22, 2021. This temperature was recorded at the Kigali International Airport weather station. #ChatGPT'"
      ]
     },
     "execution_count": 12,
     "metadata": {},
     "output_type": "execute_result"
    }
   ],
   "source": [
    "new_df.iloc[29997, 2]\n"
   ]
  },
  {
   "cell_type": "markdown",
   "id": "4df72752",
   "metadata": {
    "pycharm": {
     "name": "#%% md\n"
    }
   },
   "source": [
    "# Preprocessing "
   ]
  },
  {
   "cell_type": "code",
   "execution_count": 13,
   "id": "cc6fbde0",
   "metadata": {
    "pycharm": {
     "name": "#%%\n"
    }
   },
   "outputs": [],
   "source": [
    "# same preprocessing technique with LDA is used for NMF\n"
   ]
  },
  {
   "cell_type": "code",
   "execution_count": 14,
   "id": "45c981a6",
   "metadata": {
    "pycharm": {
     "name": "#%%\n"
    }
   },
   "outputs": [],
   "source": [
    "#to lowercase all the content\n",
    "new_df.loc[:, 'content'] = new_df['content'].str.lower()\n"
   ]
  },
  {
   "cell_type": "code",
   "execution_count": 15,
   "id": "eee0eda5",
   "metadata": {
    "pycharm": {
     "name": "#%%\n"
    }
   },
   "outputs": [],
   "source": [
    "#new_df.iloc[23,2]"
   ]
  },
  {
   "cell_type": "code",
   "execution_count": 16,
   "id": "cfc14af9",
   "metadata": {
    "pycharm": {
     "name": "#%%\n"
    }
   },
   "outputs": [],
   "source": [
    "#removing hashtags, since they are already analysed\n",
    "\n",
    "new_df.loc[:, 'content'] = new_df['content'].apply(lambda x: re.sub(r'#\\w+', '', x))\n"
   ]
  },
  {
   "cell_type": "code",
   "execution_count": 17,
   "id": "e60c577a",
   "metadata": {
    "pycharm": {
     "name": "#%%\n"
    }
   },
   "outputs": [],
   "source": [
    "#new_df.iloc[23,2]"
   ]
  },
  {
   "cell_type": "code",
   "execution_count": 18,
   "id": "a6eb6a5d",
   "metadata": {
    "pycharm": {
     "name": "#%%\n"
    }
   },
   "outputs": [],
   "source": [
    "#removing mentions\n",
    "\n",
    "new_df.loc[:, 'content'] = new_df['content'].apply(lambda x: re.sub(r\"@\\w+\", \"\", x))"
   ]
  },
  {
   "cell_type": "code",
   "execution_count": 19,
   "id": "66b2f3cf",
   "metadata": {
    "pycharm": {
     "name": "#%%\n"
    }
   },
   "outputs": [],
   "source": [
    "#new_df.iloc[29997,2]"
   ]
  },
  {
   "cell_type": "code",
   "execution_count": 20,
   "id": "3d0e351d",
   "metadata": {
    "pycharm": {
     "name": "#%%\n"
    }
   },
   "outputs": [],
   "source": [
    "## removing URLs and HTTPs \n",
    "\n",
    "# Define the URL pattern using regular expressions\n",
    "url_pattern = r\"http[s]?:\\/\\/\\S+\"\n",
    "\n",
    "# Apply the regex pattern to the 'content' column and replace URLs with an empty string\n",
    "new_df.loc[:, 'content'] = new_df['content'].str.replace(url_pattern, \"\", regex=True)\n"
   ]
  },
  {
   "cell_type": "code",
   "execution_count": 21,
   "id": "023d600b",
   "metadata": {
    "pycharm": {
     "name": "#%%\n"
    }
   },
   "outputs": [],
   "source": [
    "#new_df.iloc[23,2]"
   ]
  },
  {
   "cell_type": "code",
   "execution_count": 22,
   "id": "ddd10c69",
   "metadata": {
    "pycharm": {
     "name": "#%%\n"
    }
   },
   "outputs": [],
   "source": [
    "# Remove punctuation from the 'content' column \n",
    "\n",
    "# Define a function to remove punctuation\n",
    "def remove_punctuation(text):\n",
    "    cleaned_text = re.sub(r'[^\\w\\s]', '', text)\n",
    "    return cleaned_text\n",
    "\n",
    "\n",
    "# Apply the function to the 'content' column\n",
    "new_df.loc[:, 'content'] = new_df['content'].apply(remove_punctuation)"
   ]
  },
  {
   "cell_type": "code",
   "execution_count": 23,
   "id": "f252f656",
   "metadata": {
    "pycharm": {
     "name": "#%%\n"
    }
   },
   "outputs": [],
   "source": [
    "#new_df.iloc[29997,2]"
   ]
  },
  {
   "cell_type": "code",
   "execution_count": 24,
   "id": "40d9b68b",
   "metadata": {
    "pycharm": {
     "name": "#%%\n"
    },
    "scrolled": true
   },
   "outputs": [],
   "source": [
    "#removing numbers from the content\n",
    "\n",
    "new_df.loc[:, 'content'] = new_df['content'].str.replace('\\d+', '', regex=True)\n",
    "\n",
    "#new_df.iloc[23,2] #to check if the numbers are removed.\n"
   ]
  },
  {
   "cell_type": "code",
   "execution_count": 25,
   "id": "09f60a6e",
   "metadata": {
    "pycharm": {
     "name": "#%%\n"
    }
   },
   "outputs": [
    {
     "name": "stderr",
     "output_type": "stream",
     "text": [
      "/var/folders/sn/rhc8g5z95vx7zq5bfg6h17800000gn/T/ipykernel_44794/1396063304.py:12: SettingWithCopyWarning: \n",
      "A value is trying to be set on a copy of a slice from a DataFrame.\n",
      "Try using .loc[row_indexer,col_indexer] = value instead\n",
      "\n",
      "See the caveats in the documentation: https://pandas.pydata.org/pandas-docs/stable/user_guide/indexing.html#returning-a-view-versus-a-copy\n",
      "  new_df['content'] = new_df['content'].apply(remove_emojis)\n"
     ]
    }
   ],
   "source": [
    "# Remove emojis from text\n",
    "def remove_emojis(text):\n",
    "    emoji_pattern = re.compile(\"[\"\n",
    "                               u\"\\U0001F600-\\U0001F64F\"  # Emojis\n",
    "                               u\"\\U0001F300-\\U0001F5FF\"  # Symbols & Pictographs\n",
    "                               u\"\\U0001F680-\\U0001F6FF\"  # Transport & Map Symbols\n",
    "                               u\"\\U0001F1E0-\\U0001F1FF\"  # Flags (iOS)\n",
    "                               \"]+\", flags=re.UNICODE)\n",
    "    return emoji_pattern.sub(r'', text)\n",
    "\n",
    "\n",
    "# Apply emoji removal to the 'content' column\n",
    "new_df['content'] = new_df['content'].apply(remove_emojis)"
   ]
  },
  {
   "cell_type": "code",
   "execution_count": 26,
   "id": "ee9f3fea",
   "metadata": {
    "pycharm": {
     "name": "#%%\n"
    }
   },
   "outputs": [],
   "source": [
    "#new_df.iloc[23,2]"
   ]
  },
  {
   "cell_type": "code",
   "execution_count": 27,
   "id": "125d9ed6",
   "metadata": {
    "pycharm": {
     "name": "#%%\n"
    },
    "scrolled": true
   },
   "outputs": [],
   "source": [
    "# Tokenize the 'content' column, remove stopwords, and single-letter tokens\n",
    "stop_words = set(stopwords.words('english'))\n",
    "\n",
    "new_df.loc[:, 'content'] = new_df['content'].apply(\n",
    "    lambda x: ' '.join([word for word in word_tokenize(x) if word.lower() not in stop_words and len(word) > 1]))\n"
   ]
  },
  {
   "cell_type": "code",
   "execution_count": 28,
   "id": "66484466",
   "metadata": {
    "pycharm": {
     "name": "#%%\n"
    }
   },
   "outputs": [
    {
     "name": "stderr",
     "output_type": "stream",
     "text": [
      "/var/folders/sn/rhc8g5z95vx7zq5bfg6h17800000gn/T/ipykernel_44794/1144093375.py:11: SettingWithCopyWarning: \n",
      "A value is trying to be set on a copy of a slice from a DataFrame.\n",
      "Try using .loc[row_indexer,col_indexer] = value instead\n",
      "\n",
      "See the caveats in the documentation: https://pandas.pydata.org/pandas-docs/stable/user_guide/indexing.html#returning-a-view-versus-a-copy\n",
      "  new_df.loc[:,'compound_words'] = new_df.loc[:, 'content'].apply(find_compound_words)\n"
     ]
    }
   ],
   "source": [
    "# finding compound words\n",
    "def find_compound_words(text):\n",
    "    doc = nlp(text)\n",
    "    compound_words = []\n",
    "    for token in doc:\n",
    "        if token.dep_ == 'compound':\n",
    "            compound_words.append(token.text)\n",
    "    return compound_words\n",
    "\n",
    "\n",
    "# Apply the function to the 'content' column\n",
    "new_df.loc[:, 'compound_words'] = new_df.loc[:, 'content'].apply(find_compound_words)\n",
    "\n"
   ]
  },
  {
   "cell_type": "code",
   "execution_count": 29,
   "id": "c7e550ec",
   "metadata": {
    "pycharm": {
     "name": "#%%\n"
    }
   },
   "outputs": [
    {
     "data": {
      "text/plain": [
       "'scrape web limited knowledge world introducing webchatgpt mighty chrome extension augments prompts relevant results web see demo video install'"
      ]
     },
     "execution_count": 29,
     "metadata": {},
     "output_type": "execute_result"
    }
   ],
   "source": [
    "new_df.iloc[23, 2]"
   ]
  },
  {
   "cell_type": "code",
   "execution_count": 30,
   "id": "9876ea16",
   "metadata": {
    "pycharm": {
     "name": "#%%\n"
    }
   },
   "outputs": [
    {
     "data": {
      "text/plain": [
       "['knowledge', 'chrome', 'extension', 'results', 'demo', 'video']"
      ]
     },
     "execution_count": 30,
     "metadata": {},
     "output_type": "execute_result"
    }
   ],
   "source": [
    "new_df.iloc[23, 6]  #to see compounded words"
   ]
  },
  {
   "cell_type": "code",
   "execution_count": 31,
   "id": "81baeef5",
   "metadata": {
    "pycharm": {
     "name": "#%%\n"
    }
   },
   "outputs": [
    {
     "name": "stderr",
     "output_type": "stream",
     "text": [
      "/var/folders/sn/rhc8g5z95vx7zq5bfg6h17800000gn/T/ipykernel_44794/3088102435.py:2: SettingWithCopyWarning: \n",
      "A value is trying to be set on a copy of a slice from a DataFrame.\n",
      "Try using .loc[row_indexer,col_indexer] = value instead\n",
      "\n",
      "See the caveats in the documentation: https://pandas.pydata.org/pandas-docs/stable/user_guide/indexing.html#returning-a-view-versus-a-copy\n",
      "  new_df['combined_text'] = new_df['content'] + new_df['compound_words'].apply(lambda x: ' '.join(x))\n"
     ]
    }
   ],
   "source": [
    "# Combine preprocessed 'content' and 'compound_words' columns\n",
    "new_df['combined_text'] = new_df['content'] + new_df['compound_words'].apply(lambda x: ' '.join(x))"
   ]
  },
  {
   "cell_type": "code",
   "execution_count": 32,
   "id": "8aa4a974",
   "metadata": {
    "pycharm": {
     "name": "#%%\n"
    }
   },
   "outputs": [
    {
     "name": "stderr",
     "output_type": "stream",
     "text": [
      "/var/folders/sn/rhc8g5z95vx7zq5bfg6h17800000gn/T/ipykernel_44794/2846295210.py:8: SettingWithCopyWarning: \n",
      "A value is trying to be set on a copy of a slice from a DataFrame.\n",
      "Try using .loc[row_indexer,col_indexer] = value instead\n",
      "\n",
      "See the caveats in the documentation: https://pandas.pydata.org/pandas-docs/stable/user_guide/indexing.html#returning-a-view-versus-a-copy\n",
      "  new_df['combined_text'] = new_df['combined_text'].apply(replace_with_lemmas)\n"
     ]
    }
   ],
   "source": [
    "# Function to replace tokens with lemmas\n",
    "def replace_with_lemmas(text):\n",
    "    doc = nlp(text)\n",
    "    lemmas = [token.lemma_ for token in doc]\n",
    "    return ' '.join(lemmas)\n",
    "\n",
    "\n",
    "# Apply the function to the 'content' column\n",
    "new_df['combined_text'] = new_df['combined_text'].apply(replace_with_lemmas)\n"
   ]
  },
  {
   "cell_type": "code",
   "execution_count": 33,
   "id": "51d964b5",
   "metadata": {
    "pycharm": {
     "name": "#%%\n"
    }
   },
   "outputs": [],
   "source": [
    "#new_df.head"
   ]
  },
  {
   "cell_type": "code",
   "execution_count": 34,
   "id": "d96ac973",
   "metadata": {
    "pycharm": {
     "name": "#%%\n"
    },
    "scrolled": true
   },
   "outputs": [
    {
     "name": "stderr",
     "output_type": "stream",
     "text": [
      "/var/folders/sn/rhc8g5z95vx7zq5bfg6h17800000gn/T/ipykernel_44794/21630410.py:2: SettingWithCopyWarning: \n",
      "A value is trying to be set on a copy of a slice from a DataFrame.\n",
      "Try using .loc[row_indexer,col_indexer] = value instead\n",
      "\n",
      "See the caveats in the documentation: https://pandas.pydata.org/pandas-docs/stable/user_guide/indexing.html#returning-a-view-versus-a-copy\n",
      "  new_df['combined_text'] = new_df['combined_text'].apply(lambda x: re.sub(r'\\b(chatgpt|chat gpt|gpt|amp|m|I|s)\\b', '', x))\n"
     ]
    }
   ],
   "source": [
    "# Removing specific words and their variations from the 'combined_text' column\n",
    "new_df['combined_text'] = new_df['combined_text'].apply(\n",
    "    lambda x: re.sub(r'\\b(chatgpt|chat gpt|gpt|amp|m|I|s)\\b', '', x))\n",
    "\n"
   ]
  },
  {
   "cell_type": "markdown",
   "id": "7975b805",
   "metadata": {
    "pycharm": {
     "name": "#%% md\n"
    }
   },
   "source": [
    "# NMF (non- negative matrix factorization)"
   ]
  },
  {
   "cell_type": "code",
   "execution_count": 35,
   "id": "52e68de5",
   "metadata": {
    "pycharm": {
     "name": "#%%\n"
    }
   },
   "outputs": [],
   "source": [
    "# creating a copy of dataset to use NMF\n",
    "df_nmf = new_df.copy()"
   ]
  },
  {
   "cell_type": "code",
   "execution_count": 36,
   "id": "ee33ccf5",
   "metadata": {
    "pycharm": {
     "name": "#%%\n"
    }
   },
   "outputs": [
    {
     "data": {
      "text/html": [
       "<div>\n",
       "<style scoped>\n",
       "    .dataframe tbody tr th:only-of-type {\n",
       "        vertical-align: middle;\n",
       "    }\n",
       "\n",
       "    .dataframe tbody tr th {\n",
       "        vertical-align: top;\n",
       "    }\n",
       "\n",
       "    .dataframe thead th {\n",
       "        text-align: right;\n",
       "    }\n",
       "</style>\n",
       "<table border=\"1\" class=\"dataframe\">\n",
       "  <thead>\n",
       "    <tr style=\"text-align: right;\">\n",
       "      <th></th>\n",
       "      <th>date</th>\n",
       "      <th>id</th>\n",
       "      <th>content</th>\n",
       "      <th>username</th>\n",
       "      <th>like_count</th>\n",
       "      <th>retweet_count</th>\n",
       "      <th>compound_words</th>\n",
       "      <th>combined_text</th>\n",
       "    </tr>\n",
       "  </thead>\n",
       "  <tbody>\n",
       "    <tr>\n",
       "      <th>0</th>\n",
       "      <td>2023-01-13 04:30:44+00:00</td>\n",
       "      <td>1613755402608381952</td>\n",
       "      <td>best ai tools need know</td>\n",
       "      <td>johnvianny</td>\n",
       "      <td>63835.0</td>\n",
       "      <td>16080.0</td>\n",
       "      <td>[]</td>\n",
       "      <td>good ai tool need know</td>\n",
       "    </tr>\n",
       "    <tr>\n",
       "      <th>1</th>\n",
       "      <td>2023-01-07 04:31:47+00:00</td>\n",
       "      <td>1611581338351730688</td>\n",
       "      <td>ultramodern generative ai ai ai mdm gptj gpt x...</td>\n",
       "      <td>aaronsiim</td>\n",
       "      <td>42125.0</td>\n",
       "      <td>11501.0</td>\n",
       "      <td>[mdm, gptj, gpt, xclip, gopher, jukebox, anthr...</td>\n",
       "      <td>ultramodern generative ai ai ai mdm gptj  xcli...</td>\n",
       "    </tr>\n",
       "    <tr>\n",
       "      <th>2</th>\n",
       "      <td>2023-01-09 04:35:00+00:00</td>\n",
       "      <td>1612306922681630721</td>\n",
       "      <td>creators writers making using chatgpt people d...</td>\n",
       "      <td>garryflix</td>\n",
       "      <td>13393.0</td>\n",
       "      <td>8096.0</td>\n",
       "      <td>[creators, chatgpt, build, chatgpt, business, ...</td>\n",
       "      <td>creator writer make use  people do not know bu...</td>\n",
       "    </tr>\n",
       "    <tr>\n",
       "      <th>3</th>\n",
       "      <td>2023-03-25 04:31:39+00:00</td>\n",
       "      <td>1639485169911627777</td>\n",
       "      <td>php idr rt amp follow join telegram post proof...</td>\n",
       "      <td>crypto_bearr</td>\n",
       "      <td>1833.0</td>\n",
       "      <td>8060.0</td>\n",
       "      <td>[php, idr, rt, amp, follow, join, telegram, po...</td>\n",
       "      <td>php idr rt  follow join telegram post proof en...</td>\n",
       "    </tr>\n",
       "    <tr>\n",
       "      <th>4</th>\n",
       "      <td>2023-02-24 13:49:22+00:00</td>\n",
       "      <td>1629116276286029824</td>\n",
       "      <td>hours rt amp follow join telegram generate ima...</td>\n",
       "      <td>TheRavenCrypto</td>\n",
       "      <td>1705.0</td>\n",
       "      <td>5429.0</td>\n",
       "      <td>[rt, amp, follow, join, telegram, bot, post, t...</td>\n",
       "      <td>hour rt  follow join telegram generate image u...</td>\n",
       "    </tr>\n",
       "    <tr>\n",
       "      <th>...</th>\n",
       "      <td>...</td>\n",
       "      <td>...</td>\n",
       "      <td>...</td>\n",
       "      <td>...</td>\n",
       "      <td>...</td>\n",
       "      <td>...</td>\n",
       "      <td>...</td>\n",
       "      <td>...</td>\n",
       "    </tr>\n",
       "    <tr>\n",
       "      <th>29995</th>\n",
       "      <td>2023-03-28 09:13:39+00:00</td>\n",
       "      <td>1640643301899476992</td>\n",
       "      <td>morning shared ways help using teacher briefin...</td>\n",
       "      <td>scottdhayden</td>\n",
       "      <td>15.0</td>\n",
       "      <td>2.0</td>\n",
       "      <td>[ways, teacher, focus]</td>\n",
       "      <td>morning share way help use teacher briefing co...</td>\n",
       "    </tr>\n",
       "    <tr>\n",
       "      <th>29996</th>\n",
       "      <td>2023-02-18 04:51:16+00:00</td>\n",
       "      <td>1626806533811232770</td>\n",
       "      <td>bolster job search endeavors via generative</td>\n",
       "      <td>richardkimphd</td>\n",
       "      <td>1.0</td>\n",
       "      <td>2.0</td>\n",
       "      <td>[job, search]</td>\n",
       "      <td>bolster job search endeavor via generativejob ...</td>\n",
       "    </tr>\n",
       "    <tr>\n",
       "      <th>29997</th>\n",
       "      <td>2023-03-07 18:15:56+00:00</td>\n",
       "      <td>1633169626241564672</td>\n",
       "      <td>highest temperature ever recorded rwanda capit...</td>\n",
       "      <td>AubinRukera</td>\n",
       "      <td>11.0</td>\n",
       "      <td>2.0</td>\n",
       "      <td>[rwanda, capital, city, kigali, february, airp...</td>\n",
       "      <td>high temperature ever record rwanda capital ci...</td>\n",
       "    </tr>\n",
       "    <tr>\n",
       "      <th>29998</th>\n",
       "      <td>2023-01-30 15:10:00+00:00</td>\n",
       "      <td>1620076871219044353</td>\n",
       "      <td>check new teaching learning guide creating ass...</td>\n",
       "      <td>TLTatTWU</td>\n",
       "      <td>4.0</td>\n",
       "      <td>2.0</td>\n",
       "      <td>[teaching, learning, assignments, outsmart, te...</td>\n",
       "      <td>check new teaching learning guide create assig...</td>\n",
       "    </tr>\n",
       "    <tr>\n",
       "      <th>29999</th>\n",
       "      <td>2023-01-30 15:11:06+00:00</td>\n",
       "      <td>1620077146957041665</td>\n",
       "      <td>labeling tool could used many different purpos...</td>\n",
       "      <td>CommonSense</td>\n",
       "      <td>5.0</td>\n",
       "      <td>2.0</td>\n",
       "      <td>[labeling, expectation]</td>\n",
       "      <td>labeling tool could use many different purpose...</td>\n",
       "    </tr>\n",
       "  </tbody>\n",
       "</table>\n",
       "<p>30000 rows × 8 columns</p>\n",
       "</div>"
      ],
      "text/plain": [
       "                            date                   id   \n",
       "0      2023-01-13 04:30:44+00:00  1613755402608381952  \\\n",
       "1      2023-01-07 04:31:47+00:00  1611581338351730688   \n",
       "2      2023-01-09 04:35:00+00:00  1612306922681630721   \n",
       "3      2023-03-25 04:31:39+00:00  1639485169911627777   \n",
       "4      2023-02-24 13:49:22+00:00  1629116276286029824   \n",
       "...                          ...                  ...   \n",
       "29995  2023-03-28 09:13:39+00:00  1640643301899476992   \n",
       "29996  2023-02-18 04:51:16+00:00  1626806533811232770   \n",
       "29997  2023-03-07 18:15:56+00:00  1633169626241564672   \n",
       "29998  2023-01-30 15:10:00+00:00  1620076871219044353   \n",
       "29999  2023-01-30 15:11:06+00:00  1620077146957041665   \n",
       "\n",
       "                                                 content        username   \n",
       "0                                best ai tools need know      johnvianny  \\\n",
       "1      ultramodern generative ai ai ai mdm gptj gpt x...       aaronsiim   \n",
       "2      creators writers making using chatgpt people d...       garryflix   \n",
       "3      php idr rt amp follow join telegram post proof...    crypto_bearr   \n",
       "4      hours rt amp follow join telegram generate ima...  TheRavenCrypto   \n",
       "...                                                  ...             ...   \n",
       "29995  morning shared ways help using teacher briefin...    scottdhayden   \n",
       "29996        bolster job search endeavors via generative   richardkimphd   \n",
       "29997  highest temperature ever recorded rwanda capit...     AubinRukera   \n",
       "29998  check new teaching learning guide creating ass...        TLTatTWU   \n",
       "29999  labeling tool could used many different purpos...     CommonSense   \n",
       "\n",
       "       like_count  retweet_count   \n",
       "0         63835.0        16080.0  \\\n",
       "1         42125.0        11501.0   \n",
       "2         13393.0         8096.0   \n",
       "3          1833.0         8060.0   \n",
       "4          1705.0         5429.0   \n",
       "...           ...            ...   \n",
       "29995        15.0            2.0   \n",
       "29996         1.0            2.0   \n",
       "29997        11.0            2.0   \n",
       "29998         4.0            2.0   \n",
       "29999         5.0            2.0   \n",
       "\n",
       "                                          compound_words   \n",
       "0                                                     []  \\\n",
       "1      [mdm, gptj, gpt, xclip, gopher, jukebox, anthr...   \n",
       "2      [creators, chatgpt, build, chatgpt, business, ...   \n",
       "3      [php, idr, rt, amp, follow, join, telegram, po...   \n",
       "4      [rt, amp, follow, join, telegram, bot, post, t...   \n",
       "...                                                  ...   \n",
       "29995                             [ways, teacher, focus]   \n",
       "29996                                      [job, search]   \n",
       "29997  [rwanda, capital, city, kigali, february, airp...   \n",
       "29998  [teaching, learning, assignments, outsmart, te...   \n",
       "29999                            [labeling, expectation]   \n",
       "\n",
       "                                           combined_text  \n",
       "0                                 good ai tool need know  \n",
       "1      ultramodern generative ai ai ai mdm gptj  xcli...  \n",
       "2      creator writer make use  people do not know bu...  \n",
       "3      php idr rt  follow join telegram post proof en...  \n",
       "4      hour rt  follow join telegram generate image u...  \n",
       "...                                                  ...  \n",
       "29995  morning share way help use teacher briefing co...  \n",
       "29996  bolster job search endeavor via generativejob ...  \n",
       "29997  high temperature ever record rwanda capital ci...  \n",
       "29998  check new teaching learning guide create assig...  \n",
       "29999  labeling tool could use many different purpose...  \n",
       "\n",
       "[30000 rows x 8 columns]"
      ]
     },
     "execution_count": 36,
     "metadata": {},
     "output_type": "execute_result"
    }
   ],
   "source": [
    "df_nmf"
   ]
  },
  {
   "cell_type": "code",
   "execution_count": 37,
   "id": "4dd4d39e",
   "metadata": {
    "pycharm": {
     "name": "#%%\n"
    }
   },
   "outputs": [
    {
     "name": "stderr",
     "output_type": "stream",
     "text": [
      "/Users/busracaliskan/opt/anaconda3/lib/python3.9/site-packages/sklearn/utils/deprecation.py:87: FutureWarning: Function get_feature_names is deprecated; get_feature_names is deprecated in 1.0 and will be removed in 1.2. Please use get_feature_names_out instead.\n",
      "  warnings.warn(msg, category=FutureWarning)\n"
     ]
    }
   ],
   "source": [
    "# Create Dictionary\n",
    "\n",
    "df_nmf[\"lemmatized_split\"] = df_nmf[\"combined_text\"].map(lambda x: x.split())\n",
    "tokenized_docs = df_nmf[\"lemmatized_split\"].tolist()\n",
    "id2word = corpora.Dictionary(tokenized_docs)\n",
    "\n",
    "# Creating corpus\n",
    "\n",
    "corpus_nmf = [id2word.doc2bow(doc) for doc in df_nmf[\"lemmatized_split\"].tolist()]\n",
    "\n",
    "# Join the lemmatized split tokens into strings\n",
    "df_nmf[\"lemmatized_string\"] = df_nmf[\"lemmatized_split\"].apply(lambda x: \" \".join(x))\n",
    "\n",
    "# Create the TfIdf vectorizer using sklearn\n",
    "tfidf_vectorizer = TfidfVectorizer()\n",
    "\n",
    "# Apply the TfIdf transformation\n",
    "tfidf_matrix = tfidf_vectorizer.fit_transform(df_nmf[\"lemmatized_string\"])\n",
    "\n",
    "# Get the feature names\n",
    "feature_names = tfidf_vectorizer.get_feature_names()\n",
    "\n"
   ]
  },
  {
   "cell_type": "code",
   "execution_count": 38,
   "id": "8281a4b3",
   "metadata": {
    "pycharm": {
     "name": "#%%\n"
    }
   },
   "outputs": [
    {
     "name": "stdout",
     "output_type": "stream",
     "text": [
      "Number of Documents: 30000\n",
      "Vocabulary Size: 45609\n"
     ]
    }
   ],
   "source": [
    "# Calculate the dimensions of the input matrix\n",
    "num_documents = tfidf_matrix.shape[0]\n",
    "vocabulary_size = tfidf_matrix.shape[1]\n",
    "print(\"Number of Documents:\", num_documents)\n",
    "print(\"Vocabulary Size:\", vocabulary_size)\n"
   ]
  },
  {
   "cell_type": "markdown",
   "id": "b09fb143",
   "metadata": {
    "pycharm": {
     "name": "#%% md\n"
    }
   },
   "source": [
    "### estimating optimal nbr of topic for NMF"
   ]
  },
  {
   "cell_type": "code",
   "execution_count": 39,
   "id": "4ca215e2",
   "metadata": {
    "pycharm": {
     "name": "#%%\n"
    }
   },
   "outputs": [
    {
     "name": "stdout",
     "output_type": "stream",
     "text": [
      "Topic Number: 2, Coherence Score: 0.18125629782043268\n",
      "Topic Number: 3, Coherence Score: 0.2647965414791405\n",
      "Topic Number: 4, Coherence Score: 0.32696977682195316\n",
      "Topic Number: 5, Coherence Score: 0.3381580650840249\n",
      "Topic Number: 6, Coherence Score: 0.3492783616043236\n",
      "Topic Number: 7, Coherence Score: 0.3370805561785534\n",
      "Topic Number: 8, Coherence Score: 0.3748493927276595\n",
      "Topic Number: 9, Coherence Score: 0.3644204070467447\n",
      "Topic Number: 10, Coherence Score: 0.40747496898598745\n",
      "Topic Number: 11, Coherence Score: 0.3697174559338036\n",
      "Topic Number: 12, Coherence Score: 0.3627604965464774\n",
      "Topic Number: 13, Coherence Score: 0.3878865346417731\n",
      "Topic Number: 14, Coherence Score: 0.37845164834422546\n",
      "Topic Number: 15, Coherence Score: 0.37837289010440084\n"
     ]
    }
   ],
   "source": [
    "# Define the range of topic numbers to explore\n",
    "num_topics = list(range(2, 16))\n",
    "\n",
    "coherence_scores = []\n",
    "\n",
    "# Iterate through the topic numbers\n",
    "for num in num_topics:\n",
    "    # Fit the NMF model\n",
    "    nmf_model = Nmf(corpus=corpus_nmf, num_topics=num, id2word=id2word, random_state=42)\n",
    "\n",
    "    # Calculate the coherence score for the current topic number\n",
    "    coherence_model = CoherenceModel(model=nmf_model, texts=df_nmf[\"lemmatized_split\"].tolist(), corpus=corpus_nmf,\n",
    "                                     coherence=\"c_v\")\n",
    "    coherence_score = coherence_model.get_coherence()\n",
    "\n",
    "    coherence_scores.append(coherence_score)\n",
    "\n",
    "# Print the coherence scores for different topic numbers\n",
    "for num, score in zip(num_topics, coherence_scores):\n",
    "    print(f\"Topic Number: {num}, Coherence Score: {score}\")\n"
   ]
  },
  {
   "cell_type": "code",
   "execution_count": 40,
   "id": "47060d83",
   "metadata": {
    "pycharm": {
     "name": "#%%\n"
    }
   },
   "outputs": [
    {
     "data": {
      "image/png": "[encoded data removed]",
      "text/plain": [
       "<Figure size 640x480 with 1 Axes>"
      ]
     },
     "metadata": {},
     "output_type": "display_data"
    }
   ],
   "source": [
    "# Plot the coherence scores to see optimal one visuallt\n",
    "plt.plot(num_topics, coherence_scores)\n",
    "plt.xlabel(\"Number of Topics\")\n",
    "plt.ylabel(\"Coherence Score\")\n",
    "plt.title(\"Coherence Scores for Different Number of Topics\")\n",
    "plt.show()"
   ]
  },
  {
   "cell_type": "code",
   "execution_count": 41,
   "id": "e5df9048",
   "metadata": {
    "pycharm": {
     "name": "#%%\n"
    }
   },
   "outputs": [
    {
     "name": "stderr",
     "output_type": "stream",
     "text": [
      "/Users/busracaliskan/opt/anaconda3/lib/python3.9/site-packages/sklearn/decomposition/_nmf.py:289: FutureWarning: The 'init' value, when 'init=None' and n_components is less than n_samples and n_features, will be changed from 'nndsvd' to 'nndsvda' in 1.1 (renaming of 0.26).\n",
      "  warnings.warn(\n"
     ]
    },
    {
     "name": "stdout",
     "output_type": "stream",
     "text": [
      "Elapsed time: 4.945392847061157 seconds\n"
     ]
    },
    {
     "name": "stderr",
     "output_type": "stream",
     "text": [
      "/Users/busracaliskan/opt/anaconda3/lib/python3.9/site-packages/sklearn/decomposition/_nmf.py:1637: ConvergenceWarning: Maximum number of iterations 200 reached. Increase it to improve convergence.\n",
      "  warnings.warn(\n"
     ]
    }
   ],
   "source": [
    "\n",
    "\n",
    "# Define the number of topics which found in previous step\n",
    "num_topics = 10\n",
    "\n",
    "# Start the timer\n",
    "start_time = time.time()\n",
    "\n",
    "# Create the NMF model\n",
    "nmf_model = NMF(n_components=num_topics, random_state=42)\n",
    "\n",
    "# Fit the model to the TfIdf matrix\n",
    "nmf_model.fit(tfidf_matrix)\n",
    "\n",
    "# Stop the timer\n",
    "end_time = time.time()\n",
    "\n",
    "# Calculate the elapsed time\n",
    "elapsed_time = end_time - start_time\n",
    "\n",
    "# Print the elapsed time\n",
    "print(\"Elapsed time:\", elapsed_time, \"seconds\")"
   ]
  },
  {
   "cell_type": "code",
   "execution_count": 42,
   "id": "aeb061f8",
   "metadata": {
    "pycharm": {
     "name": "#%%\n"
    }
   },
   "outputs": [
    {
     "name": "stdout",
     "output_type": "stream",
     "text": [
      "Topic 1: ai tool generative open future good art world technology need\n",
      "Topic 2: acquisition pay available interest free instalmentsacquisition coincidentally via cybersafecloudcom theremotejobscom\n",
      "Topic 3: use case create way student code prompt learn tool content\n",
      "Topic 4: not do get make work go job way take well\n",
      "Topic 5: new search google microsoft bing chatbot engine launch power chat\n",
      "Topic 6: like look design custom want order humanlikerobotsorder tool anyone rt\n",
      "Topic 7: write ask poem question answer code think give well article\n",
      "Topic 8: know need even everything good what answer whatschat here want\n",
      "Topic 9: intelligence artificial future human technology world phase chatbot openai assist\n",
      "Topic 10: language model large openai text api train generate release natural\n"
     ]
    },
    {
     "name": "stderr",
     "output_type": "stream",
     "text": [
      "/Users/busracaliskan/opt/anaconda3/lib/python3.9/site-packages/sklearn/utils/deprecation.py:87: FutureWarning: Function get_feature_names is deprecated; get_feature_names is deprecated in 1.0 and will be removed in 1.2. Please use get_feature_names_out instead.\n",
      "  warnings.warn(msg, category=FutureWarning)\n"
     ]
    }
   ],
   "source": [
    "# Get the feature names from the TF-IDF vectorizer\n",
    "feature_names = tfidf_vectorizer.get_feature_names()\n",
    "\n",
    "# Get the top 10 words for each topic\n",
    "num_words = 10\n",
    "for topic_idx, topic in enumerate(nmf_model.components_):\n",
    "    top_words_indices = topic.argsort()[:-num_words - 1:-1]\n",
    "    top_words = [feature_names[i] for i in top_words_indices]\n",
    "    print(f\"Topic {topic_idx + 1}: {' '.join(top_words)}\")\n",
    "\n"
   ]
  },
  {
   "cell_type": "code",
   "execution_count": 43,
   "id": "830e94cd",
   "metadata": {
    "pycharm": {
     "name": "#%%\n"
    }
   },
   "outputs": [
    {
     "name": "stdout",
     "output_type": "stream",
     "text": [
      "For topic 1, the words with the highest value are:\n",
      "ai         4.342749\n",
      "tool       1.194531\n",
      "generative 0.600831\n",
      "open       0.214009\n",
      "future     0.206735\n",
      "good       0.182016\n",
      "art        0.169641\n",
      "world      0.168753\n",
      "technology 0.167575\n",
      "need       0.164645\n",
      "For topic 2, the words with the highest value are:\n",
      "acquisition 1.392847\n",
      "pay        1.348518\n",
      "available  1.271005\n",
      "interest   1.214634\n",
      "free       1.182068\n",
      "instalmentsacquisition 1.081704\n",
      "coincidentally 0.656006\n",
      "via        0.492897\n",
      "cybersafecloudcom 0.297502\n",
      "theremotejobscom 0.205316\n",
      "For topic 3, the words with the highest value are:\n",
      "use        2.628904\n",
      "case       0.255178\n",
      "create     0.247974\n",
      "way        0.209199\n",
      "student    0.208836\n",
      "code       0.174103\n",
      "prompt     0.173454\n",
      "learn      0.149845\n",
      "tool       0.148519\n",
      "content    0.145029\n",
      "For topic 4, the words with the highest value are:\n",
      "not        1.640797\n",
      "do         1.169042\n",
      "get        0.769235\n",
      "make       0.611995\n",
      "work       0.459947\n",
      "go         0.456359\n",
      "job        0.444827\n",
      "way        0.434713\n",
      "take       0.418905\n",
      "well       0.393268\n",
      "For topic 5, the words with the highest value are:\n",
      "new        1.577901\n",
      "search     1.217001\n",
      "google     1.128376\n",
      "microsoft  0.722550\n",
      "bing       0.658516\n",
      "chatbot    0.513871\n",
      "engine     0.499957\n",
      "launch     0.434320\n",
      "power      0.411346\n",
      "chat       0.387822\n",
      "For topic 6, the words with the highest value are:\n",
      "like       2.222938\n",
      "look       1.620841\n",
      "design     0.699519\n",
      "custom     0.666672\n",
      "want       0.643671\n",
      "order      0.632308\n",
      "humanlikerobotsorder 0.631151\n",
      "tool       0.630319\n",
      "anyone     0.621625\n",
      "rt         0.106729\n",
      "For topic 7, the words with the highest value are:\n",
      "write      2.181671\n",
      "ask        1.919532\n",
      "poem       0.843502\n",
      "question   0.667944\n",
      "answer     0.629737\n",
      "code       0.255655\n",
      "think      0.180620\n",
      "give       0.175884\n",
      "well       0.159271\n",
      "article    0.152936\n",
      "For topic 8, the words with the highest value are:\n",
      "know       3.079830\n",
      "need       0.737831\n",
      "even       0.496098\n",
      "everything 0.329752\n",
      "good       0.196447\n",
      "what       0.130684\n",
      "answer     0.116786\n",
      "whatschat  0.110559\n",
      "here       0.105547\n",
      "want       0.099978\n",
      "For topic 9, the words with the highest value are:\n",
      "intelligence 2.135615\n",
      "artificial 1.560762\n",
      "future     0.224719\n",
      "human      0.213719\n",
      "technology 0.175053\n",
      "world      0.165176\n",
      "phase      0.156353\n",
      "chatbot    0.148142\n",
      "openai     0.137828\n",
      "assist     0.112827\n",
      "For topic 10, the words with the highest value are:\n",
      "language   1.863474\n",
      "model      1.475631\n",
      "large      0.524737\n",
      "openai     0.425170\n",
      "text       0.297120\n",
      "api        0.207963\n",
      "train      0.191785\n",
      "generate   0.166713\n",
      "release    0.145504\n",
      "natural    0.132123\n"
     ]
    }
   ],
   "source": [
    "# Get the topic distribution for each document\n",
    "topic_distribution = nmf_model.transform(tfidf_matrix)\n",
    "\n",
    "# Get the words with the highest values for each topic\n",
    "num_words = 10  # Number of top words to display for each topic\n",
    "\n",
    "for topic_idx, topic in enumerate(nmf_model.components_):\n",
    "    top_words_indices = topic.argsort()[:-num_words - 1:-1]\n",
    "    top_words = [feature_names[i] for i in top_words_indices]\n",
    "    top_values = [topic[i] for i in top_words_indices]\n",
    "\n",
    "    print(f\"For topic {topic_idx + 1}, the words with the highest value are:\")\n",
    "    for word, value in zip(top_words, top_values):\n",
    "        print(f\"{word:10s} {value:.6f}\")\n"
   ]
  },
  {
   "cell_type": "code",
   "execution_count": 44,
   "id": "05646dc9",
   "metadata": {
    "pycharm": {
     "name": "#%%\n"
    }
   },
   "outputs": [
    {
     "data": {
      "image/png": "[encoded data removed]",
      "text/plain": [
       "<Figure size 800x400 with 1 Axes>"
      ]
     },
     "metadata": {},
     "output_type": "display_data"
    },
    {
     "data": {
      "image/png": "[encoded data removed]",
      "text/plain": [
       "<Figure size 800x400 with 1 Axes>"
      ]
     },
     "metadata": {},
     "output_type": "display_data"
    },
    {
     "data": {
      "image/png": "[encoded data removed]",
      "text/plain": [
       "<Figure size 800x400 with 1 Axes>"
      ]
     },
     "metadata": {},
     "output_type": "display_data"
    },
    {
     "data": {
      "image/png": "[encoded data removed]",
      "text/plain": [
       "<Figure size 800x400 with 1 Axes>"
      ]
     },
     "metadata": {},
     "output_type": "display_data"
    },
    {
     "data": {
      "image/png": "[encoded data removed]",
      "text/plain": [
       "<Figure size 800x400 with 1 Axes>"
      ]
     },
     "metadata": {},
     "output_type": "display_data"
    },
    {
     "data": {
      "image/png": "[encoded data removed]",
      "text/plain": [
       "<Figure size 800x400 with 1 Axes>"
      ]
     },
     "metadata": {},
     "output_type": "display_data"
    },
    {
     "data": {
      "image/png": "[encoded data removed]",
      "text/plain": [
       "<Figure size 800x400 with 1 Axes>"
      ]
     },
     "metadata": {},
     "output_type": "display_data"
    },
    {
     "data": {
      "image/png": "[encoded data removed]",
      "text/plain": [
       "<Figure size 800x400 with 1 Axes>"
      ]
     },
     "metadata": {},
     "output_type": "display_data"
    },
    {
     "data": {
      "image/png": "[encoded data removed]",
      "text/plain": [
       "<Figure size 800x400 with 1 Axes>"
      ]
     },
     "metadata": {},
     "output_type": "display_data"
    },
    {
     "data": {
      "image/png": "[encoded data removed]",
      "text/plain": [
       "<Figure size 800x400 with 1 Axes>"
      ]
     },
     "metadata": {},
     "output_type": "display_data"
    }
   ],
   "source": [
    "# Define the topic labels\n",
    "topic_labels = [\n",
    "    \"Topic 1\",\n",
    "    \"Topic 2\",\n",
    "    \"Topic 3\",\n",
    "    \"Topic 4\",\n",
    "    \"Topic 5\",\n",
    "    \"Topic 6\",\n",
    "    \"Topic 7\",\n",
    "    \"Topic 8\",\n",
    "    \"Topic 9\",\n",
    "    \"Topic 10\"\n",
    "]\n",
    "\n",
    "# Get the topic distribution for each document\n",
    "topic_distribution = nmf_model.transform(tfidf_matrix)\n",
    "\n",
    "# Get the words with the highest values for each topic\n",
    "num_words = 10  # Number of top words to display for each topic\n",
    "\n",
    "for topic_idx, topic in enumerate(nmf_model.components_):\n",
    "    top_words_indices = topic.argsort()[:-num_words - 1:-1]\n",
    "    top_words = [feature_names[i] for i in top_words_indices]\n",
    "    top_values = [topic[i] for i in top_words_indices]\n",
    "\n",
    "    # Plot the words with their values\n",
    "    plt.figure(figsize=(8, 4))\n",
    "    plt.barh(np.arange(len(top_words)), top_values, color='blue')\n",
    "    plt.yticks(np.arange(len(top_words)), top_words, fontsize=8)\n",
    "    plt.xlabel('Values', fontsize=10)\n",
    "    plt.ylabel('Words', fontsize=10)\n",
    "    plt.title(topic_labels[topic_idx], fontsize=12)  # Set the topic label\n",
    "    plt.gca().invert_yaxis()\n",
    "    plt.tight_layout()\n",
    "    plt.show()\n"
   ]
  }
 ],
 "metadata": {
  "kernelspec": {
   "display_name": "Python 3 (ipykernel)",
   "language": "python",
   "name": "python3"
  },
  "language_info": {
   "codemirror_mode": {
    "name": "ipython",
    "version": 3
   },
   "file_extension": ".py",
   "mimetype": "text/x-python",
   "name": "python",
   "nbconvert_exporter": "python",
   "pygments_lexer": "ipython3",
   "version": "3.9.13"
  }
 },
 "nbformat": 4,
 "nbformat_minor": 5
}